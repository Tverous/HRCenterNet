{
 "cells": [
  {
   "cell_type": "code",
   "execution_count": null,
   "metadata": {},
   "outputs": [],
   "source": [
    "import torch\n",
    "import matplotlib.pyplot as plt\n",
    "import numpy as np\n",
    "import torchvision\n",
    "from PIL import Image\n",
    "import pandas as pd\n",
    "\n",
    "from datasets.HanDataset import dataset_generator\n",
    "from utils.utility import csv_preprocess, _nms_eval_iou\n",
    "from utils.losses import calc_loss\n",
    "from models.HRCenterNet import HRCenterNet"
   ]
  },
  {
   "cell_type": "code",
   "execution_count": null,
   "metadata": {},
   "outputs": [],
   "source": [
    "crop_size = 512\n",
    "output_size = 128"
   ]
  },
  {
   "cell_type": "code",
   "execution_count": null,
   "metadata": {},
   "outputs": [],
   "source": [
    "dataloader = dict()\n",
    "\n",
    "demo_list = csv_preprocess('data/train.csv')\n",
    "print(\"found\", len(demo_list), \"of images\")"
   ]
  },
  {
   "cell_type": "code",
   "execution_count": null,
   "metadata": {},
   "outputs": [],
   "source": [
    "demo_set = dataset_generator('data/images/', demo_list, crop_size, 0.5, output_size)"
   ]
  },
  {
   "cell_type": "code",
   "execution_count": null,
   "metadata": {},
   "outputs": [],
   "source": [
    "for i in range(0, 10):\n",
    "    sample = demo_set[i]\n",
    "    fig, axes = plt.subplots(1, 2,figsize=(20, 25))\n",
    "\n",
    "    image = sample['image']\n",
    "    heatmap = sample['labels'][..., 0]\n",
    "    \n",
    "    out = np.asarray(image).transpose((1, 2, 0))\n",
    "    axes[0].imshow(out)\n",
    "    axes[1].imshow(heatmap)\n",
    "    plt.show()\n",
    "    "
   ]
  },
  {
   "cell_type": "code",
   "execution_count": null,
   "metadata": {},
   "outputs": [],
   "source": []
  }
 ],
 "metadata": {
  "kernelspec": {
   "display_name": "Python 3",
   "language": "python",
   "name": "python3"
  },
  "language_info": {
   "codemirror_mode": {
    "name": "ipython",
    "version": 3
   },
   "file_extension": ".py",
   "mimetype": "text/x-python",
   "name": "python",
   "nbconvert_exporter": "python",
   "pygments_lexer": "ipython3",
   "version": "3.6.10"
  }
 },
 "nbformat": 4,
 "nbformat_minor": 4
}
